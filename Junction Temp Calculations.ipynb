{
 "cells": [
  {
   "cell_type": "markdown",
   "metadata": {
    "collapsed": false
   },
   "source": [
    "# Calculation the junction temperature of semiconductor devices\n",
    "Last updated: 5 Oct 2017  \n",
    "Python 3 or higher"
   ]
  },
  {
   "cell_type": "markdown",
   "metadata": {
    "collapsed": false
   },
   "source": [
    "**Abstract:** The python code in this notebook will calculate the junction temperature of a semiconductor device.  Pulsed power and reliability considerations will also be addressed.\n",
    "\n",
    "**Scope:** These calculations are primarily for semiconductor devices encapsulated in a package and mounted to a printed circuit board.  Calculations are performed in International System of Units (SI), kg, m & s[[1]](#ref1).\n",
    "\n",
    "---\n",
    "**Introduction:** The junction temperature is an important parameter in the operation of a semiconductor device.  Junction temperature affects the safe operation of the device as well as the reliability[[2]](#ref2).  \n",
    "\n",
    "(write up is being worked on...)"
   ]
  },
  {
   "cell_type": "markdown",
   "metadata": {
    "collapsed": false
   },
   "source": [
    "## Load python packages\n",
    "These packages are from the [SciPy](https://en.wikipedia.org/wiki/SciPy) python library."
   ]
  },
  {
   "cell_type": "code",
   "execution_count": 1,
   "metadata": {
    "collapsed": false
   },
   "outputs": [
   ],
   "source": [
    "#import pandas as pd\n",
    "import numpy as np\n",
    "import matplotlib.pyplot as plt"
   ]
  },
  {
   "cell_type": "markdown",
   "metadata": {
    "collapsed": false
   },
   "source": [
    "## Calculate junction temperature\n",
    "The symbol, $\\theta$, is generally used to denote thermal resistance. $\\theta$ is spelled out as theta when used in the calculations.  Thermal resistance is in units of $^{\\circ}$C/W, where W is Watts.  Theta defines the resistance heat encounters flowing from a warmer zone to a cooler zone.\n",
    "\n",
    "theta_c: thermal resistance of device junction to case  \n",
    "theta_1: thermal resistance of case to air (if no heat sink) or thermal resistance of heat sink\n",
    "\n",
    "A device with a thermal resistance $\\theta$ equal to $100^{\\circ}$C/W will exhibit a temperature differential of 100$^{\\circ}$C for a power dissipation of 1W, when measured between two reference points.  \n"
   ]
  },
  {
   "cell_type": "markdown",
   "metadata": {
    "collapsed": false
   },
   "source": [
    "### Sample thermal data\n",
    "\n",
    "| PN | Description | TJ max |  Theta, Junction to case |\n",
    "|----------------------|---------------------------------|:---:|:---:|\n",
    "| IRF6216PBF | P-CHANNEL MOSFET, SOIC-8 PACKAGE | 150 | 20 |\n",
    "| IRFR220N | N-CHANNEL MOSFET TO-252 PACKAGE | 175 | 3.5 |\n",
    "| IXDD609SI | Ultrafast MOSFET Driver SOIC 8 w/Exposed Metal Bottom | 150 | 20 |\n",
    "| LT3085MPMS8#PBF | ADJUSTABLE 500mA LDR, MSOP-8 WITH BACK PAD | 125 | 10 |\n",
    "| LTC1799H | OSCILLATOR, RESISTOR SET, SOT-23-5 PACKAGE | 125 | 256 (1) |\n",
    "| MAX922MSA/PR | DUAL COMPARATOR, SOIC-8 PACKAGE | 150 | 3 |\n",
    "| MIC1557YM5 | RC TIMER/OSCILLATOR, SOT-23-5 PACKAGE | 85 | 250 (1) |\n",
    "| MMBF2202PT1 | P-CHANNEL MOSFET, SC70-3 PACKAGE | 150 | 833 (1) |\n",
    "| MMBT2907A-7-F | PNP TRANSISTOR, 60V, SOT23 PACKAGE | 150 | 350 |\n",
    "| NVC317BD2TG | 1.5A ADJUSTABLE OUTPUT POSITIVE REGULATOR | 150 | 5 |\n",
    "| OPA340NA | OPERATION AMPLIFIER, SOT-23-5 | 150 | 36 |\n",
    "\n",
    "Note 1:\t junction to ambient\n",
    "\n",
    "In same cases the manufacturer only provided junction to ambient thermal resistance.  The thermal resistance from case to PCB needs to estimated as well as the PCB to ambient thermal resistance.\n",
    "\n",
    "Insert table of PCB pad thermal resistance.\n"
   ]
  },
  {
   "cell_type": "markdown",
   "metadata": {
    "collapsed": false
   },
   "source": [
    "#### calculation for NVC317BD2TG"
   ]
  },
  {
   "cell_type": "markdown",
   "metadata": {
    "collapsed": false
   },
   "source": [
    "The current and voltage is a guess. The power dissipated at the junction can be calculated by...\n"
   ]
  },
  {
   "cell_type": "code",
   "execution_count": 23,
   "metadata": {
    "collapsed": false
   },
   "outputs": [
    {
     "name": "stdout",
     "output_type": "stream",
     "text": [
      "power dissipated at the junction: 250.0 mW\n"
     ]
    }
   ],
   "source": [
    "i = 50e-3   # current flowing through the junction, A\n",
    "v = 5   # voltage drop across junction, V\n",
    "P = i*v   # power dissipated in the device, W\n",
    "print('power dissipated at the junction: {:.1f} mW'.format(P*1000))"
   ]
  },
  {
   "cell_type": "code",
   "execution_count": 24,
   "metadata": {
    "collapsed": false
   },
   "outputs": [
    {
     "name": "stdout",
     "output_type": "stream",
     "text": [
      "junction temperature: 121.2 C\n"
     ]
    }
   ],
   "source": [
    "Ta = 70  # ambient temperature, C\n",
    "theta_c = 5   # thermal resistance between junction and case, C/W\n",
    "theta_1 = 200   # thermal resistance between case and ambient, C/W\n",
    "Tj = Ta + (theta_c+theta_1)*P\n",
    "print('junction temperature: {:.1f} C'.format(Tj))"
   ]
  },
  {
   "cell_type": "markdown",
   "metadata": {
    "collapsed": false
   },
   "source": [
   ]
  },
  {
   "cell_type": "code",
   "execution_count": 0,
   "metadata": {
    "collapsed": false
   },
   "outputs": [
   ],
   "source": [
   ]
  },
  {
   "cell_type": "code",
   "execution_count": 0,
   "metadata": {
    "collapsed": false
   },
   "outputs": [
   ],
   "source": [
   ]
  },
  {
   "cell_type": "markdown",
   "metadata": {
    "collapsed": false
   },
   "source": [
    "## Pulse power\n"
   ]
  },
  {
   "cell_type": "code",
   "execution_count": 0,
   "metadata": {
    "collapsed": false
   },
   "outputs": [
   ],
   "source": [
   ]
  },
  {
   "cell_type": "markdown",
   "metadata": {
    "collapsed": false
   },
   "source": [
    "## MIL-HDBK-217F reliability calculations\n",
    "Temperature Factor  \n",
    "Effective activation energy  \n",
    "Junction temperature  \n",
    "Case temperature  \n"
   ]
  },
  {
   "cell_type": "code",
   "execution_count": 0,
   "metadata": {
    "collapsed": false
   },
   "outputs": [
   ],
   "source": [
   ]
  },
  {
   "cell_type": "markdown",
   "metadata": {
    "collapsed": false
   },
   "source": [
    "## Discussion and conclusions\n",
    "\n",
    "---\n",
    "## References\n",
    "<a id='ref1'></a>\n",
    "1. [International System of Units](https://en.wikipedia.org/wiki/International_System_of_Units)\n",
    "<a id='ref2'></a>\n",
    "1. [Junction temperature](https://en.wikipedia.org/wiki/Junction_temperature)\n",
    "<a id='ref3'></a>\n",
    "1. Nikhil Seshasayee, [Understanding Thermal Dissipation and Design of a Heat Sink](http://www.ti.com/lit/an/slva462/slva462.pdf), Application Report SLVA462–May 2011, Texas Instruments Incorporated\n",
    "<a id='ref4'></a>\n",
    "3. Vassighi, Arman; Sachdev, Manoj (2006). Thermal and Power Management of Integrated Circuits. Integrated Circuits and Systems. ISBN 9780387257624.\n",
    "<a id='ref5'></a>\n",
    "4. https://ipython.org. A gallery of interesting IPython Notebooks. 2016  [cited 2016 25 April]; Available from [here](https://github.com/ipython/ipython/wiki/A-gallery-of-interesting-IPython-Notebooks)."
   ]
  },
  {
   "cell_type": "code",
   "execution_count": 0,
   "metadata": {
    "collapsed": false
   },
   "outputs": [
   ],
   "source": [
   ]
  }
 ],
 "metadata": {
  "kernelspec": {
   "display_name": "Python 3 (Anaconda)",
   "language": "python",
   "name": "anaconda3"
  },
  "language_info": {
   "codemirror_mode": {
    "name": "ipython",
    "version": 3
   },
   "file_extension": ".py",
   "mimetype": "text/x-python",
   "name": "python",
   "nbconvert_exporter": "python",
   "pygments_lexer": "ipython3",
   "version": "3.5.4"
  }
 },
 "nbformat": 4,
 "nbformat_minor": 0
}