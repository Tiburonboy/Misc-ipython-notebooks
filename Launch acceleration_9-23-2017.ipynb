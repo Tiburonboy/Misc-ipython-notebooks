{
 "cells": [
  {
   "cell_type": "markdown",
   "metadata": {
    "collapsed": false
   },
   "source": [
    "# Calculations for Missile Launch Acceleration\n",
    "Last updated: 21 Sept 2017\n",
    "\n",
    "**Tasks:** Need to build the model up from basics.  Rick's calculations are not well defined, so I'm starting from some basic levels. At a given a altitude and MACH:\n",
    "- find the density of air\n",
    "    - find temperature and pressure\n",
    "    - find density\n",
    "- find the velocity of sound\n",
    "- find the drag force\n",
    "- calculate the acceleration\n",
    "\n",
    "need to look at units to make sure they agree."
   ]
  },
  {
   "cell_type": "markdown",
   "metadata": {
    "collapsed": false
   },
   "source": [
    "#### email from Anthony\n",
    "\n",
    "Do you mean it's clear to everyone that the threshold was met? I assume the umbilical will separate no matter what if it launches slower or faster.\n",
    "\n",
    "Anyways, yeah that's not hard, you can use the equations of motion (http://www.physicsclassroom.com/class/1DKin/Lesson-6/Kinematic-Equations) that give you distance based off acceleration.\n",
    "\n",
    "d=v_i*t + (1/2)*a*t^2\n",
    "\n",
    "In this case v_i = 0 and t = 1 and a = 6.5g = 63.7m/s^2 so you get 31.85 meters in the first second as the distance traveled if it was doing 6.5Gs.\n",
    "\n",
    "Let me know if that's what you were looking for or if you wanted something else.\n",
    "\n",
    "If you want it in actual rocket motor thrust, then you're gonna have to give me the weight of the missile and whether or not the thing takes off vertically or at an angle. But that's easily doable too.\n",
    "\n",
    "-Anthony"
   ]
  },
  {
   "cell_type": "markdown",
   "metadata": {
    "collapsed": false
   },
   "source": [
    "## Density of air\n",
    "The [density of air](https://en.wikipedia.org/wiki/Density_of_air) ρ (Greek: rho) (air density) is the mass per unit volume of Earth's atmosphere. Air density, like air pressure, decreases with increasing altitude. It also changes with variation in temperature and humidity. At sea level and at 15 °C air has a density of approximately 1.225 kg/m3 (1.225 x10−3 g/cm3, 0.0023769 slug/(cu ft), 0.0765 lb/(cu ft)) according to ISA (International Standard Atmosphere).\n",
    "\n",
    "To calculate the density of air as a function of altitude, one requires additional parameters. They are listed below, along with their values according to the International Standard Atmosphere, using for calculation the universal gas constant instead of the air specific constant:\n",
    "\n",
    "$p_0$ = sea level standard atmospheric pressure, 101.325 kPa\n",
    "$T_0$ = sea level standard temperature, 288.15 K\n",
    "g = earth-surface gravitational acceleration, 9.80665 m/s2\n",
    "L= temperature lapse rate, 0.0065 K/m\n",
    "R = ideal (universal) gas constant, 8.31447 J/(mol·K)\n",
    "M = molar mass of dry air, 0.0289644 kg/mol\n",
    "\n",
    "Temperature at altitude {\\displaystyle h} h meters above sea level is approximated by the following formula (only valid inside the troposphere):\n",
    "\n",
    "$T = T_0 - L h$\n",
    "\n",
    "The pressure at altitude {\\displaystyle h} h is given by:\n",
    "\n",
    "{\\displaystyle p=p_{0}\\left(1-{\\frac {Lh}{T_{0}}}\\right)^{\\frac {gM}{RL}}} p = p_0 \\left(1 - \\frac{L h}{T_0} \\right)^\\frac{g M}{R L}\n",
    "\n",
    "Density can then be calculated according to a molar form of the ideal gas law:\n",
    "\n",
    "$\\rho = \\frac{p M}{R T}$\n",
    "\n",
    "where:\n",
    "- M = molar mass\n",
    "- R = ideal gas constant\n",
    "- T = absolute temperature\n",
    "- p = absolute pressure"
   ]
  },
  {
   "cell_type": "code",
   "execution_count": 1,
   "metadata": {
    "collapsed": false
   },
   "outputs": [
   ],
   "source": [
    "import numpy as np\n",
    "import pandas as pd\n",
    "import matplotlib.pyplot as plt"
   ]
  },
  {
   "cell_type": "markdown",
   "metadata": {
    "collapsed": false
   },
   "source": [
    "## Earth's atmosphere\n",
    "The Earth's atmosphere is an extremely thin sheet of air extending from the surface of the Earth to the edge of space. If the Earth were the size of a basketball, a tightly held pillowcase would represent the thickness of the atmosphere. Gravity holds the atmosphere to the Earth's surface. Within the atmosphere, very complex chemical, thermodynamic, and fluid dynamics effects occur. The atmosphere is not uniform; fluid properties are constantly changing with time and place. We call this change the weather.\n",
    "\n",
    "Standard Atmosphere: p0 = 101.325 kPa, T0 = 288.15 K, ρ0 = 1.225 kg/m3\n",
    "\n",
    "The [model](https://www.grc.nasa.gov/www/k-12/airplane/atmosmet.html) has three zones with separate curve fits for the troposphere, the lower stratosphere, and the upper stratosphere.\n",
    "\n",
    "http://acmg.seas.harvard.edu/people/faculty/djj/book/bookchap2.html\n",
    "\n"
   ]
  },
  {
   "cell_type": "markdown",
   "metadata": {
    "collapsed": false
   },
   "source": [
    "### Troposphere\n",
    "The troposphere runs from the surface of the Earth to 11,000 meters. In the troposphere, the temperature decreases linearly and the pressure decreases exponentially. The rate of temperature decrease is called the lapse rate. For the temperature T and the pressure p, the metric units curve fits for the troposphere are:\n",
    "\n",
    "$$T = 15.04 - .00649 * h$$\n",
    "\n",
    "$$p = 101.29 * [(T + 273.1)/288.08]^{5.256}$$\n",
    "\n",
    "where the temperature is given in Celsius degrees, the pressure in kilo-Pascals,and h is the altitude in meters."
   ]
  },
  {
   "cell_type": "code",
   "execution_count": 3,
   "metadata": {
    "collapsed": false
   },
   "outputs": [
   ],
   "source": [
    "h = np.linspace(0, 10000, num=10, endpoint=True)\n",
    "T1 =  15.04 - .00649 * h  # lapse rate\n",
    "p1 = 101.29 * ((T1 + 273.1)/288.08)**5.256"
   ]
  },
  {
   "cell_type": "code",
   "execution_count": 4,
   "metadata": {
    "collapsed": false
   },
   "outputs": [
    {
     "data": {
      "image/png": "[encoded data removed]"
     },
     "output_type": "execute_result"
    }
   ],
   "source": [
    "# plot the data\n",
    "fig, ax1 = plt.subplots()\n",
    "ax2 = ax1.twinx()\n",
    "ax1.plot(h, T1,'g-o')\n",
    "ax2.plot(h, p1,'b-o')\n",
    "ax1.set_xlabel('Altitude, meters')\n",
    "ax1.set_ylabel('Temperature, C', color='g')\n",
    "ax2.set_ylabel('Pressure, kilo-Pascals', color='b')\n",
    "ax1.grid()\n",
    "#ax2.grid()\n",
    "plt.show()"
   ]
  },
  {
   "cell_type": "markdown",
   "metadata": {
    "collapsed": false
   },
   "source": [
    "### Lower Stratosphere\n",
    "The lower stratosphere runs from 11,000 meters to 25,000 meters. In the lower stratosphere the temperature is constant and the pressure decreases exponentially. The metric units curve fits for the lower stratosphere are:\n",
    "\n",
    "T = -56.46\n",
    "\n",
    "p = 22.65 * exp(1.73 - .000157 * h)\n"
   ]
  },
  {
   "cell_type": "code",
   "execution_count": 5,
   "metadata": {
    "collapsed": false
   },
   "outputs": [
   ],
   "source": [
    "h = np.linspace(11000, 25000, num=10, endpoint=True)\n",
    "T2 =  np.ones(len(h))*-56.46  # a constant\n",
    "p2 = 22.65 * np.exp(1.73 - .000157 * h)"
   ]
  },
  {
   "cell_type": "code",
   "execution_count": 6,
   "metadata": {
    "collapsed": false
   },
   "outputs": [
    {
     "data": {
      "image/png": "[encoded data removed]"
     },
     "output_type": "execute_result"
    }
   ],
   "source": [
    "# plot the data\n",
    "fig, ax1 = plt.subplots()\n",
    "ax2 = ax1.twinx()\n",
    "ax1.plot(h, T2,'g-o')\n",
    "ax2.plot(h, p2,'b-o')\n",
    "ax1.set_xlabel('Altitude, meters')\n",
    "ax1.set_ylabel('Temperature, C', color='g')\n",
    "ax2.set_ylabel('Pressure, kilo-Pascals', color='b')\n",
    "ax1.grid()\n",
    "#ax2.grid()\n",
    "plt.show()"
   ]
  },
  {
   "cell_type": "markdown",
   "metadata": {
    "collapsed": false
   },
   "source": [
    "### Upper Stratosphere to 50,000 meters\n",
    "The upper stratosphere model is used for altitudes above 25,000 meters. In the upper stratosphere the temperature increases slightly and the pressure decreases exponentially. The metric units curve fits for the upper stratosphere are:\n",
    "\n",
    "T = -131.21 + .00299 * h\n",
    "\n",
    "p = 2.488 * [(T + 273.1)/ 216.6]^-11.388\n",
    "\n",
    "In each zone the density r is derived from the equation of state.\n",
    "\n",
    "r = p / [.2869 * (T + 273.1)]"
   ]
  },
  {
   "cell_type": "code",
   "execution_count": 7,
   "metadata": {
    "collapsed": false
   },
   "outputs": [
   ],
   "source": [
    "h = np.linspace(25000, 50000, num=10, endpoint=True)\n",
    "T3 = -131.21 + 0.00299 * h\n",
    "p3 = 2.488 * ((T3 + 273.1)/ 216.6)**-11.388"
   ]
  },
  {
   "cell_type": "code",
   "execution_count": 8,
   "metadata": {
    "collapsed": false
   },
   "outputs": [
    {
     "data": {
      "image/png": "[encoded data removed]"
     },
     "output_type": "execute_result"
    }
   ],
   "source": [
    "# plot the data\n",
    "fig, ax1 = plt.subplots()\n",
    "ax2 = ax1.twinx()\n",
    "ax1.plot(h, T3,'g-o')\n",
    "ax2.plot(h, p3,'b-o')\n",
    "ax1.set_xlabel('Altitude, meters')\n",
    "ax1.set_ylabel('Temperature, C', color='g')\n",
    "ax2.set_ylabel('Pressure, kilo-Pascals', color='b')\n",
    "ax1.grid()\n",
    "#ax2.grid()\n",
    "plt.show()"
   ]
  },
  {
   "cell_type": "markdown",
   "metadata": {
    "collapsed": false
   },
   "source": [
    "### put the segments together"
   ]
  },
  {
   "cell_type": "code",
   "execution_count": 9,
   "metadata": {
    "collapsed": false
   },
   "outputs": [
   ],
   "source": [
    "T = np.concatenate((T1,T2,T3))\n",
    "p = np.concatenate((p1,p2,p3))\n",
    "h = np.linspace(0, 50000, num=30, endpoint=True)"
   ]
  },
  {
   "cell_type": "code",
   "execution_count": 10,
   "metadata": {
    "collapsed": false
   },
   "outputs": [
    {
     "data": {
      "image/png": "[encoded data removed]"
     },
     "output_type": "execute_result"
    }
   ],
   "source": [
    "# plot the data\n",
    "fig, ax1 = plt.subplots()\n",
    "ax2 = ax1.twinx()\n",
    "ax1.plot(h, T,'g-o')\n",
    "ax2.plot(h, p,'b-o')\n",
    "ax1.set_xlabel('Altitude, meters')\n",
    "ax1.set_ylabel('Temperature, C', color='g')\n",
    "ax2.set_ylabel('Pressure, kilo-Pascals', color='b')\n",
    "ax1.grid()\n",
    "#ax2.grid()\n",
    "plt.show()"
   ]
  },
  {
   "cell_type": "markdown",
   "metadata": {
    "collapsed": false
   },
   "source": [
    "## Density of air\n",
    "The density of air ρ (Greek: rho) (air density) is the mass per unit volume of Earth's atmosphere. Air density, like air pressure, decreases with increasing altitude. It also changes with variation in temperature and humidity. At sea level and at 15 °C air has a density of approximately 1.225 kg/m3 (1.225 x10−3 g/cm3, 0.0023769 slug/(cu ft), 0.0765 lb/(cu ft)) according to ISA (International Standard Atmosphere).\n",
    "\n",
    "In each zone the density r is derived from the equation of state.\n",
    "\n",
    "r = p / (.2869 * (T + 273.1))\n",
    "\n",
    "https://en.wikipedia.org/wiki/Density_of_air\n",
    "Density can then be calculated according to a molar form of the ideal gas law:\n",
    "\n",
    "$\\rho = \\frac{p*M}{R*T}$\n",
    "\n",
    "where:\n",
    "- M = molar mass of dry air, 0.0289644 kg/mol\n",
    "- R = ideal gas constant, 8.3144598 J⋅mol−1⋅K−1\n",
    "- T = absolute temperature\n",
    "- p = absolute pressure"
   ]
  },
  {
   "cell_type": "markdown",
   "metadata": {
    "collapsed": false
   },
   "source": [
    "### Molar mass of dry air\n",
    "In chemistry, the molar mass M is a physical property defined as the mass of a given substance (chemical element or chemical compound) divided by the amount of substance. The base SI unit for molar mass is kg/mol. However, for historical reasons, molar masses are almost always expressed in g/mol. The molecular weight (or molar mass) of a substance is the mass of one mole of the substance, and can be calculated by summarizing the molar masses of all the atoms in the molecule.\n",
    "\n",
    "**Components in Dry Air:**  Air is a mixture of several gases, where the two most dominant components in dry air are oxygen and nitrogen. Oxygen has a molar mass of 16 g/mol and nitrogen has a molar mass of 14 g/mol. Since both of these elements are diatomic in air - O2 and N2, the molar mass of oxygen is 32 g/mol and the molar mass of nitrogen is 28 g/mol.  The average molar mass is equal to the sum of the mole fractions of each gas multiplied by the molar mass of that particular gas:\n",
    "\n",
    "$M_{mixture} = (x_1*M_1 + ......+ x_n*M_n)$\n",
    "\n",
    "where\n",
    "- $x_i$ = mole fractions of each gas\n",
    "- $M_i$ = the molar mass of each gas\n",
    "\n",
    "\n",
    "| Components in Dry Air | Volume Ratio compared to Dry Air | Molar Mass M (g/mol) | Molar Mass in Air (g/mol) |\n",
    "|-----------------------|----------------------------------|----------------------|---------------------------|\n",
    "| Oxygen | 0.2095 | 32.00 | 6.704 |\n",
    "| Nitrogen | 0.7809 |28.02 | 21.881 |\n",
    "| Carbon dioxide | 0.0003 | 44.01 |0.013 |\n",
    "| Hydrogen | 0.0000005 | 2.02 | 0 |\n",
    "| Argon | 0.00933 | 39.94 | 0.373 |\n",
    "| Neon | 0.000018 | 20.18 | 0 |\n",
    "| Helium | 0.000005 | 4.00 | 0 |\n",
    "| Krypton | 0.000001 | 83.8 | 0 |\n",
    "| Xenon | 0.09x10-6 | 131.29 | 0 |\n"
   ]
  },
  {
   "cell_type": "code",
   "execution_count": 17,
   "metadata": {
    "collapsed": false
   },
   "outputs": [
    {
     "name": "stdout",
     "output_type": "stream",
     "text": [
      "molar mass of dry air: 28.971141 g/mol\n"
     ]
    }
   ],
   "source": [
    "# make a dataframe for the constituents of air\n",
    "df = pd.DataFrame(columns=['element','Volume Ratio','Molar Mass'])\n",
    "df.loc[0] = ['Oxygen',0.2095,32.00]\n",
    "df.loc[1] = ['Nitrogen',0.7809,28.02]\n",
    "df.loc[2] = ['Carbon dioxide',0.0003,44.01]\n",
    "df.loc[3] = ['Hydrogen',0.0000005,2.02]\n",
    "df.loc[4] = ['Argon',0.00933,39.94]\n",
    "df.loc[5] = ['Neon',0.000018,20.18]\n",
    "df.loc[6] = ['Helium',0.000005,4.00]\n",
    "df.loc[7] = ['Krypton',0.000001,83.8]\n",
    "df.loc[8] = ['Xenon',0.09e-6,131.29]\n",
    "\n",
    "M_mixture = 0\n",
    "for i in range(len(df)):\n",
    "    M_mixture += df.loc[i,'Volume Ratio']*df.loc[i,'Molar Mass']\n",
    "\n",
    "print('molar mass of dry air: {:f} g/mol'.format(M_mixture))"
   ]
  },
  {
   "cell_type": "code",
   "execution_count": 18,
   "metadata": {
    "collapsed": false
   },
   "outputs": [
    {
     "name": "stdout",
     "output_type": "stream",
     "text": [
      "0.00348442854533\n"
     ]
    }
   ],
   "source": [
    "# ideal gas law\n",
    "p = 1 # absolute pressure  <-- look up units\n",
    "T = 1 # absolute temperature <-- look up units\n",
    "R =  8.3144598 # ideal gas constant, J/(mol⋅K)  <-- look up units\n",
    "M = M_mixture/1000 # molar mass of dry air, kg/mol\n",
    "rho = p*M/R*T\n",
    "print(rho)"
   ]
  },
  {
   "cell_type": "code",
   "execution_count": 11,
   "metadata": {
    "collapsed": false
   },
   "outputs": [
    {
     "data": {
      "image/png": "[encoded data removed]"
     },
     "output_type": "execute_result"
    }
   ],
   "source": [
    "r = p / (.2869 * (T + 273.1))\n",
    "plt.plot(h, r,'-o')\n",
    "plt.xlabel('Altitude, meters')\n",
    "plt.ylabel('Density, kg/m^3')\n",
    "plt.grid()\n",
    "plt.show()"
   ]
  },
  {
   "cell_type": "code",
   "execution_count": 0,
   "metadata": {
    "collapsed": false
   },
   "outputs": [
   ],
   "source": [
   ]
  },
  {
   "cell_type": "markdown",
   "metadata": {
    "collapsed": false
   },
   "source": [
    "## Inputs to the model"
   ]
  },
  {
   "cell_type": "code",
   "execution_count": 12,
   "metadata": {
    "collapsed": false
   },
   "outputs": [
   ],
   "source": [
    "motor_thrust_lbs = 5000  # Rocket motor thrust in pounds, try 5000 min @ .22 sec\n",
    "msl_weight_lbs = 783 # Weight of the missile in pounds\n",
    "d_in = 10 # diameter of the missile, inches\n",
    "M = 1.5 # Mach number\n",
    "\n",
    "h = \n",
    "T_F = -40 # temperature at altitude, F\n",
    "adf = .4025 # air density factor"
   ]
  },
  {
   "cell_type": "code",
   "execution_count": 2,
   "metadata": {
    "collapsed": false
   },
   "outputs": [
    {
     "name": "stdout",
     "output_type": "stream",
     "text": [
      "4572.0\n"
     ]
    }
   ],
   "source": [
    "altitude_ft = 15000 # feet\n",
    "altitude_m = altitude_ft * 0.3048\n",
    "print(altitude_m)"
   ]
  },
  {
   "cell_type": "code",
   "execution_count": 0,
   "metadata": {
    "collapsed": false
   },
   "outputs": [
   ],
   "source": [
   ]
  },
  {
   "cell_type": "markdown",
   "metadata": {
    "collapsed": false
   },
   "source": [
    "## Calculate drag force\n",
    "In fluid dynamics, the [drag equation](https://en.wikipedia.org/wiki/Drag_equation) is a formula used to calculate the force of drag experienced by an object due to movement through a fully enclosing fluid. The formula is accurate only under certain conditions: the objects must have a blunt form factor and the system must have a large enough Reynolds number to produce turbulence behind the object. The equation is:\n",
    "\n",
    "$F_{D}\\,=\\,{\\tfrac  12}\\,\\rho \\,u^{2}\\,C_{D}\\,A$\n",
    "\n",
    "- $F_{D}$ is the drag force, which is by definition the force component in the direction of the flow velocity,\n",
    "- $\\rho$  is the mass density of the fluid,\n",
    "- u is the flow velocity relative to the object,\n",
    "- A is the reference area, and\n",
    "- $C_{D}$ is the drag coefficient – a dimensionless coefficient related to the object's geometry and taking into account both skin friction and form drag, in general $C_{D}$ depends on the Reynolds number.\n",
    "\n",
    "The reference area A is typically defined as the area of the orthographic projection of the object on a plane perpendicular to the direction of motion. For non-hollow objects with simple shape, such as a sphere, this is exactly the same as a cross sectional area."
   ]
  },
  {
   "cell_type": "code",
   "execution_count": 0,
   "metadata": {
    "collapsed": false
   },
   "outputs": [
   ],
   "source": [
    "drag_coef = np.array([ 0.25, 0.26, 0.27,  0.3,  0.35 ,  0.4,  0.42, 0.415, 0.4, 0.375, 0.35, 0.325])\n",
    "mach_num = np.array([ 0.2, 0.36, 0.52, 0.69, 0.85, 1.018, 1.18, 1.345, 1.50, 1.67, 1.836, 2.])\n",
    "drag_force = r*M*np.interp(M, mach_num, drag_coef)*A\n",
    "print('drag: {:.2f}'.format(drag_force))\n",
    "Accel = (motor_thrust-drag_force)/weight\n",
    "print('acceleration: {:.2f}'.format(Accel))"
   ]
  },
  {
   "cell_type": "code",
   "execution_count": 0,
   "metadata": {
    "collapsed": false
   },
   "outputs": [
   ],
   "source": [
   ]
  },
  {
   "cell_type": "code",
   "execution_count": 0,
   "metadata": {
    "collapsed": false
   },
   "outputs": [
   ],
   "source": [
   ]
  },
  {
   "cell_type": "markdown",
   "metadata": {
    "collapsed": false
   },
   "source": [
   ]
  },
  {
   "cell_type": "markdown",
   "metadata": {
    "collapsed": false
   },
   "source": [
    "# Old code below here"
   ]
  },
  {
   "cell_type": "markdown",
   "metadata": {
    "collapsed": false
   },
   "source": [
    "### Rick's calculations for drag force"
   ]
  },
  {
   "cell_type": "markdown",
   "metadata": {
    "collapsed": false
   },
   "source": [
    "Rick's  calculations: These calculations attempt to find the acceleration a missile would experience at launch. The following formula was used to calculate the drag forces at launch:\n",
    "\n",
    "$F=C_d\\Bigl[\\frac{A*\\rho(M*V_s)^2}{2*g}\\Bigr]$\n",
    "\n",
    "Where:\n",
    "- F = the drag force\n",
    "- $C_d$ = drag coefficient\n",
    "- A = cross sectional area of the missile\n",
    "- $\\rho$ = air density at an altitude of 28k ft\n",
    "- M = Mach number\n",
    "- $V_s$ = velocity of sound at 28k ft and -40°F\n",
    "- g = the gravity constant\n",
    "\n",
    "\n",
    "Prefer that a complete timing diagram be added showing the arming sequence for a worst case HARM motor including time for the FTSA to charge to high voltage."
   ]
  },
  {
   "cell_type": "code",
   "execution_count": 28,
   "metadata": {
    "collapsed": false
   },
   "outputs": [
   ],
   "source": [
    "motor_thrust = 5000  # Rocket motor thrust in pounds, try 5000 min @ .22 sec\n",
    "weight = 783 # Weight of the missile in pounds\n",
    "d = 10 # diameter of the missile, inches\n",
    "M = 1.5 # Mach number\n",
    "T_F = -40 # temperature at altitude, F\n",
    "adf = .4025 # air density factor"
   ]
  },
  {
   "cell_type": "code",
   "execution_count": 3,
   "metadata": {
    "collapsed": false
   },
   "outputs": [
    {
     "name": "stdout",
     "output_type": "stream",
     "text": [
      "cross section area: 0.545 ft\n",
      "speed of sound: 1001.9\n",
      "air density: 0.000811\n"
     ]
    }
   ],
   "source": [
    "A_ft = np.pi*(d/12)**2/4\n",
    "print('cross section area: {:.3f} ft'.format(A_ft))\n",
    "rsh = 1.4 # ratio of specific heats\n",
    "Rgc = 53.35 #gas constant\n",
    "Vs = np.sqrt(rsh*32*Rgc*(T_F + 460))  #velocity of sound at 28k ft and -40°F\n",
    "print('speed of sound: {:.1f}'.format(Vs))\n",
    "T_K = (T_F + 459.7)/1.8  #temperature in kelvin, T(K) = (T(°F)+459.67)×5/9\n",
    "#print(T_K)\n",
    "p0 = 0.002016  #p_0 = sea level standard atmospheric pressure, 101.325 kPa  ???\n",
    "p = adf * p0  #air density at an altitude of 28k ft\n",
    "print('air density: {:.6f}'.format(p))"
   ]
  },
  {
   "cell_type": "code",
   "execution_count": 4,
   "metadata": {
    "collapsed": false
   },
   "outputs": [
    {
     "name": "stdout",
     "output_type": "stream",
     "text": [
      "drag: 200.95\n",
      "acceleration: 6.13\n"
     ]
    }
   ],
   "source": [
    "drag_coef = np.array([ 0.25, 0.26, 0.27,  0.3,  0.35 ,  0.4,  0.42, 0.415, 0.4, 0.375, 0.35, 0.325])\n",
    "mach_num = np.array([ 0.2, 0.36, 0.52, 0.69, 0.85, 1.018, 1.18, 1.345, 1.50, 1.67, 1.836, 2.])\n",
    "drag_force = np.interp(M, mach_num, drag_coef)*(A_ft*(p*32.164*(M*Vs)**2)/(2*32))\n",
    "print('drag: {:.2f}'.format(drag_force))\n",
    "Accel = (motor_thrust-drag_force)/weight\n",
    "print('acceleration: {:.2f}'.format(Accel))"
   ]
  },
  {
   "cell_type": "code",
   "execution_count": 5,
   "metadata": {
    "collapsed": false
   },
   "outputs": [
    {
     "data": {
      "image/png": "[encoded data removed]"
     },
     "metadata": {
      "image/png": {
       "height": 413,
       "width": 721
      }
     }
    }
   ],
   "source": [
    "plt.plot(mach_num, drag_coef,'-o')\n",
    "plt.grid()\n",
    "plt.show()"
   ]
  },
  {
   "cell_type": "code",
   "execution_count": 31,
   "metadata": {
    "collapsed": false
   },
   "outputs": [
    {
     "data": {
      "text/plain": [
       "5089.5"
      ]
     },
     "execution_count": 31,
     "metadata": {
     },
     "output_type": "execute_result"
    }
   ],
   "source": [
    "# F=MA\n",
    "Accel = 6.5\n",
    "weight*Accel"
   ]
  },
  {
   "cell_type": "code",
   "execution_count": 32,
   "metadata": {
    "collapsed": false
   },
   "outputs": [
    {
     "data": {
      "text/plain": [
       "6.385696040868455"
      ]
     },
     "execution_count": 32,
     "metadata": {
     },
     "output_type": "execute_result"
    }
   ],
   "source": [
    "# A = F/M\n",
    "motor_thrust/weight"
   ]
  },
  {
   "cell_type": "code",
   "execution_count": 0,
   "metadata": {
    "collapsed": false
   },
   "outputs": [
   ],
   "source": [
   ]
  }
 ],
 "metadata": {
  "kernelspec": {
   "display_name": "Python 3 (Anaconda)",
   "language": "python",
   "name": "anaconda3"
  },
  "language_info": {
   "codemirror_mode": {
    "name": "ipython",
    "version": 3
   },
   "file_extension": ".py",
   "mimetype": "text/x-python",
   "name": "python",
   "nbconvert_exporter": "python",
   "pygments_lexer": "ipython3",
   "version": "3.5.4"
  }
 },
 "nbformat": 4,
 "nbformat_minor": 0
}